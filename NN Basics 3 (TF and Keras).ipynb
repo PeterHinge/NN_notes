{
 "cells": [
  {
   "cell_type": "markdown",
   "metadata": {},
   "source": [
    "# Basics of neural networks 3 (TensorFlow and Keras)\n",
    "\n",
    "### Making neural nets using TensorFlow and Keras\n",
    "\n",
    "This notebook is a follow up to my NN Basics 2. This time we use TensorFlow and the Keras API that sits atop TensorFlow. TensorFlow is probably the most well-known machine learning module for enthusiasts and for good reason, since it allows even beginners to make various type of well working neural networks.\n",
    "\n",
    "Time this we do need certain libraries/extensions that is not native to python. For now we only need TensorFlow and Keras along with Matplotlib for graphical visualization. There are many guides on how to install libraries on the internet. Here are my recommended versions (you might get away with other versions but these work for sure).\n",
    "\n",
    "### Versions (recommended):\n",
    "<ul>\n",
    "  <li>Python 3.6</li>\n",
    "  <li>TensorFlow 1.14.0</li>\n",
    "  <li>Keras 2.2.4</li>\n",
    "  <li>Matplotlib 3.1.0</li>    \n",
    "</ul>\n",
    "\n",
    "First we make the relevant imports."
   ]
  },
  {
   "cell_type": "code",
   "execution_count": 1,
   "metadata": {},
   "outputs": [],
   "source": [
    "import numpy as np\n",
    "import tensorflow as tf\n",
    "from matplotlib import pyplot as plt"
   ]
  },
  {
   "cell_type": "markdown",
   "metadata": {},
   "source": [
    "To train our neural net, we will be using a data set called \"mnist\", which is kind of the world of ML's equivalent to \"hello world\" (maybe you have even seen it before if you have practiced clustering etc.). In short, the data set is a collection of 28x28 binary-pixel pictures of handwritten digits and there corresponding value.\n",
    "\n",
    "Let's first get a feel for the data. We load the mnist data set and use matplotlib to display the first training sample and print the target value or label."
   ]
  },
  {
   "cell_type": "code",
   "execution_count": 2,
   "metadata": {},
   "outputs": [
    {
     "data": {
      "image/png": "[encoded data removed]",
      "text/plain": [
       "<Figure size 432x288 with 1 Axes>"
      ]
     },
     "metadata": {
      "needs_background": "light"
     },
     "output_type": "display_data"
    },
    {
     "name": "stdout",
     "output_type": "stream",
     "text": [
      "Label: 5\n"
     ]
    }
   ],
   "source": [
    "mnist = tf.keras.datasets.mnist\n",
    "(x_train, y_train), (x_test, y_test) = mnist.load_data()\n",
    "\n",
    "plt.imshow(x_train[0], cmap=plt.cm.binary)\n",
    "plt.show()\n",
    "\n",
    "label = y_train[0]\n",
    "print(\"Label: \" + str(label))"
   ]
  },
  {
   "cell_type": "markdown",
   "metadata": {},
   "source": [
    "As we can see the first sample is a 5. The data is divided into a training set (which of course is used for training) and a testing set (which is used for model validation). But before we proceed with our model creation, we need to normalize our data. Normally pixel values are between 0 and 255, however neural perform better on data between 0 and 1. Furthermore our data is in integers and we want it in floats."
   ]
  },
  {
   "cell_type": "code",
   "execution_count": 3,
   "metadata": {},
   "outputs": [
    {
     "data": {
      "image/png": "[encoded data removed]",
      "text/plain": [
       "<Figure size 432x288 with 1 Axes>"
      ]
     },
     "metadata": {
      "needs_background": "light"
     },
     "output_type": "display_data"
    }
   ],
   "source": [
    "x_train = tf.keras.utils.normalize(x_train, axis=1)\n",
    "x_test = tf.keras.utils.normalize(x_test, axis=1)\n",
    "\n",
    "plt.imshow(x_train[0], cmap=plt.cm.binary)\n",
    "plt.show()"
   ]
  },
  {
   "cell_type": "markdown",
   "metadata": {},
   "source": [
    "Notice how the normalizing changes our data display slightly.\n",
    "\n",
    "Next, it is time to build our model and train it. In TensorFlow the model creation and training process is as follows:\n",
    "<ol>\n",
    "  <li>Create model structure</li>\n",
    "  <li>Compile model</li>\n",
    "  <li>Fit the model to the data (training)</li>\n",
    "  <li>Evaluate the model</li>\n",
    "  <li>Make predictions based on the the model</li> \n",
    "</ol>\n",
    "\n",
    "The structural step is very similar to the one we saw in NN Basics 2 - here I have created a DNN with 3 hidden layers (128, 256 and 128 neurons). The only difference is initial flattening layer along with a specification of the input shape, which makes small improvements to our networks overall performance. \n",
    "\n",
    "In the compiling step, we choose \"how\" our network learns, i.e. the optimizer, the way of measuring loss etc. If you seek a career in AI and ML, I would recommend that you actually learn what these are and how they work. <a href=\"https://www.tensorflow.org/api_docs/python/tf/keras/optimizers\">Here</a> is a link to TensorFlow's optimizers, which is a good place to start. \n",
    "\n",
    "In the fitting step the model is fed the data for a number of epochs (iterations), here I picked 3.\n",
    "\n",
    "The evaluation step returns the validation loss and accuracy, so we can check for over-fitting (more on that later).\n",
    "\n",
    "Finally we can make predictions based on our trained model. The evaluation step is not necessary in order to make predictions, seeing and the model acts like an object, but evaluation step is a good indicator of our networks ability."
   ]
  },
  {
   "cell_type": "code",
   "execution_count": 4,
   "metadata": {},
   "outputs": [
    {
     "name": "stderr",
     "output_type": "stream",
     "text": [
      "WARNING: Logging before flag parsing goes to stderr.\n",
      "W0817 18:57:23.025170   484 deprecation.py:506] From C:\\Users\\Peter\\Anaconda3\\envs\\tensorflow\\lib\\site-packages\\tensorflow\\python\\ops\\init_ops.py:1251: calling VarianceScaling.__init__ (from tensorflow.python.ops.init_ops) with dtype is deprecated and will be removed in a future version.\n",
      "Instructions for updating:\n",
      "Call initializer instance with the dtype argument instead of passing it to the constructor\n"
     ]
    },
    {
     "name": "stdout",
     "output_type": "stream",
     "text": [
      "Training:\n",
      "Epoch 1/3\n",
      "60000/60000 [==============================] - 6s 94us/sample - loss: 0.2421 - acc: 0.9262\n",
      "Epoch 2/3\n",
      "60000/60000 [==============================] - 5s 90us/sample - loss: 0.1013 - acc: 0.9677\n",
      "Epoch 3/3\n",
      "60000/60000 [==============================] - 5s 88us/sample - loss: 0.0696 - acc: 0.9780\n",
      "Evaluating:\n",
      "10000/10000 [==============================] - 1s 53us/sample - loss: 0.0956 - acc: 0.9719\n",
      "Prediction:\n",
      "7\n"
     ]
    },
    {
     "data": {
      "image/png": "[encoded data removed]",
      "text/plain": [
       "<Figure size 432x288 with 1 Axes>"
      ]
     },
     "metadata": {
      "needs_background": "light"
     },
     "output_type": "display_data"
    }
   ],
   "source": [
    "model = tf.keras.models.Sequential()  # model structure\n",
    "model.add(tf.keras.layers.Flatten())\n",
    "model.add(tf.keras.layers.Dense(128, activation=tf.nn.relu, input_shape= x_train.shape[1:]))\n",
    "model.add(tf.keras.layers.Dense(256, activation=tf.nn.relu))\n",
    "model.add(tf.keras.layers.Dense(128, activation=tf.nn.relu))\n",
    "model.add(tf.keras.layers.Dense(10, activation=tf.nn.softmax))\n",
    "\n",
    "model.compile(optimizer='adam',  # model compiling\n",
    "              loss='sparse_categorical_crossentropy',\n",
    "              metrics=['accuracy'])\n",
    "\n",
    "print('Training:')\n",
    "model.fit(x_train, y_train, epochs=3)  # model training\n",
    "\n",
    "print('Evaluating:')\n",
    "val_loss, val_acc = model.evaluate(x_test, y_test)  # model evaluation\n",
    "\n",
    "print('Prediction:')\n",
    "predictions = model.predict(x_test)  # model predictions\n",
    "print(np.argmax(predictions[0]))\n",
    "\n",
    "plt.imshow(x_test[0],cmap=plt.cm.binary)\n",
    "plt.show()"
   ]
  },
  {
   "cell_type": "markdown",
   "metadata": {},
   "source": [
    "As we can see our model made the right prediction.\n",
    "\n",
    "A significant challenge with neural nets is the issue of \"over-fitting\". In short, this means that the model ends up simply memorizing the training data as suppose to finding general patterns and thus the model is really good predicting in-training-samples but not good at predicting out-of-training-samples. This is where the evaluation step becomes really valuable. Of course we would expect our model to be a little more precise on in-training-samples, however, it should be almost as good for the out-of-training-samples. Our model seems not to have over-fitted (loss: 0.0696 - acc: 0.9780 vs val_loss: 0.0956 - val_acc: 0.9719), but how do we make sure and more importantly how do we find the most optimal parameters for a given task? Here are some things worth considering:\n",
    "<ul>\n",
    "  <li>Optimal number of layers</li>\n",
    "  <li>Optimal number of neurons in layers</li>\n",
    "  <li>Optimal number of epoch</li>\n",
    "  <li>Optimal compiling parameters</li> \n",
    "</ul>\n",
    "\n",
    "### Using Keras and TensorBoard \n",
    "TensorBoard is an excellent way to evaluate and compare the which parameters are optimal for a given problem. TensorBoard creates a separate folder of the training results that can be displayed and inspected. Here we are gonna make basically the same model as before, but we are going to run it for 10 epochs to see if we can figure out the optimal number of epochs. We will also be using concrete imports straight from keras (the same can be achieved by using tf.keras.XXXXXX). Notice how this makes our model look more intuitive."
   ]
  },
  {
   "cell_type": "code",
   "execution_count": 5,
   "metadata": {},
   "outputs": [
    {
     "name": "stderr",
     "output_type": "stream",
     "text": [
      "Using TensorFlow backend.\n",
      "W0817 18:57:42.313035   484 deprecation_wrapper.py:119] From C:\\Users\\Peter\\Anaconda3\\envs\\tensorflow\\lib\\site-packages\\keras\\backend\\tensorflow_backend.py:74: The name tf.get_default_graph is deprecated. Please use tf.compat.v1.get_default_graph instead.\n",
      "\n",
      "W0817 18:57:43.299452   484 deprecation_wrapper.py:119] From C:\\Users\\Peter\\Anaconda3\\envs\\tensorflow\\lib\\site-packages\\keras\\optimizers.py:790: The name tf.train.Optimizer is deprecated. Please use tf.compat.v1.train.Optimizer instead.\n",
      "\n",
      "W0817 18:57:43.325437   484 deprecation_wrapper.py:119] From C:\\Users\\Peter\\Anaconda3\\envs\\tensorflow\\lib\\site-packages\\keras\\backend\\tensorflow_backend.py:517: The name tf.placeholder is deprecated. Please use tf.compat.v1.placeholder instead.\n",
      "\n",
      "W0817 18:57:43.336431   484 deprecation_wrapper.py:119] From C:\\Users\\Peter\\Anaconda3\\envs\\tensorflow\\lib\\site-packages\\keras\\backend\\tensorflow_backend.py:4138: The name tf.random_uniform is deprecated. Please use tf.random.uniform instead.\n",
      "\n",
      "W0817 18:57:43.419384   484 deprecation_wrapper.py:119] From C:\\Users\\Peter\\Anaconda3\\envs\\tensorflow\\lib\\site-packages\\keras\\backend\\tensorflow_backend.py:3341: The name tf.log is deprecated. Please use tf.math.log instead.\n",
      "\n",
      "W0817 18:57:43.529320   484 deprecation.py:323] From C:\\Users\\Peter\\Anaconda3\\envs\\tensorflow\\lib\\site-packages\\tensorflow\\python\\ops\\math_grad.py:1250: add_dispatch_support.<locals>.wrapper (from tensorflow.python.ops.array_ops) is deprecated and will be removed in a future version.\n",
      "Instructions for updating:\n",
      "Use tf.where in 2.0, which has the same broadcast rule as np.where\n",
      "W0817 18:57:43.573295   484 deprecation_wrapper.py:119] From C:\\Users\\Peter\\Anaconda3\\envs\\tensorflow\\lib\\site-packages\\keras\\backend\\tensorflow_backend.py:986: The name tf.assign_add is deprecated. Please use tf.compat.v1.assign_add instead.\n",
      "\n"
     ]
    },
    {
     "name": "stdout",
     "output_type": "stream",
     "text": [
      "Train on 42000 samples, validate on 18000 samples\n"
     ]
    },
    {
     "name": "stderr",
     "output_type": "stream",
     "text": [
      "W0817 18:57:44.059030   484 deprecation_wrapper.py:119] From C:\\Users\\Peter\\Anaconda3\\envs\\tensorflow\\lib\\site-packages\\keras\\callbacks.py:850: The name tf.summary.merge_all is deprecated. Please use tf.compat.v1.summary.merge_all instead.\n",
      "\n",
      "W0817 18:57:44.060016   484 deprecation_wrapper.py:119] From C:\\Users\\Peter\\Anaconda3\\envs\\tensorflow\\lib\\site-packages\\keras\\callbacks.py:853: The name tf.summary.FileWriter is deprecated. Please use tf.compat.v1.summary.FileWriter instead.\n",
      "\n"
     ]
    },
    {
     "name": "stdout",
     "output_type": "stream",
     "text": [
      "Epoch 1/10\n",
      "42000/42000 [==============================] - 7s 161us/step - loss: 0.2835 - acc: 0.9145 - val_loss: 0.1718 - val_acc: 0.9484\n",
      "Epoch 2/10\n",
      "42000/42000 [==============================] - 6s 152us/step - loss: 0.1130 - acc: 0.9635 - val_loss: 0.1309 - val_acc: 0.9596\n",
      "Epoch 3/10\n",
      "42000/42000 [==============================] - 6s 155us/step - loss: 0.0778 - acc: 0.9753 - val_loss: 0.1427 - val_acc: 0.9579\n",
      "Epoch 4/10\n",
      "42000/42000 [==============================] - 7s 155us/step - loss: 0.0577 - acc: 0.9813 - val_loss: 0.1375 - val_acc: 0.9629\n",
      "Epoch 5/10\n",
      "42000/42000 [==============================] - 6s 150us/step - loss: 0.0464 - acc: 0.9848 - val_loss: 0.1241 - val_acc: 0.9683\n",
      "Epoch 6/10\n",
      "42000/42000 [==============================] - 7s 157us/step - loss: 0.0383 - acc: 0.9875 - val_loss: 0.1192 - val_acc: 0.9687\n",
      "Epoch 7/10\n",
      "42000/42000 [==============================] - 7s 155us/step - loss: 0.0298 - acc: 0.9898 - val_loss: 0.1241 - val_acc: 0.9682\n",
      "Epoch 8/10\n",
      "42000/42000 [==============================] - 7s 158us/step - loss: 0.0240 - acc: 0.9919 - val_loss: 0.1319 - val_acc: 0.9706\n",
      "Epoch 9/10\n",
      "42000/42000 [==============================] - 7s 157us/step - loss: 0.0269 - acc: 0.9917 - val_loss: 0.1371 - val_acc: 0.9679\n",
      "Epoch 10/10\n",
      "42000/42000 [==============================] - 6s 153us/step - loss: 0.0199 - acc: 0.9939 - val_loss: 0.1582 - val_acc: 0.9670\n"
     ]
    },
    {
     "data": {
      "text/plain": [
       "<keras.callbacks.History at 0x22c98a42b70>"
      ]
     },
     "execution_count": 5,
     "metadata": {},
     "output_type": "execute_result"
    }
   ],
   "source": [
    "from keras.models import Sequential\n",
    "from keras.layers import Dense, Flatten\n",
    "from keras.callbacks import TensorBoard\n",
    "import time\n",
    "\n",
    "model = Sequential()\n",
    "model.add(Flatten())\n",
    "model.add(Dense(128, activation=tf.nn.relu, input_shape= x_train.shape[1:]))\n",
    "model.add(Dense(256, activation=tf.nn.relu))\n",
    "model.add(Dense(128, activation=tf.nn.relu))\n",
    "model.add(Dense(10, activation=tf.nn.softmax))\n",
    "\n",
    "tensorboard = TensorBoard(log_dir=\"logs\")\n",
    "\n",
    "model.compile(optimizer='adam',  \n",
    "              loss='sparse_categorical_crossentropy',\n",
    "              metrics=['accuracy'])\n",
    "\n",
    "model.fit(x_train, y_train, epochs=10, validation_split=0.3, callbacks=[tensorboard])"
   ]
  },
  {
   "cell_type": "markdown",
   "metadata": {},
   "source": [
    "These data can then be viewed graphically with TensorBoard although I can't show it in Jupyter Notebook, but we can see that the val_loss breaks off after the 6th epoch, which can be a good indicator that the optimal number of epoch is 6. We could also change other parameters and compare everything and TensorBoard makes such a compassion much more manageable.\n",
    "\n",
    "In these first 3 notebooks, we have only used regular ANNs and DNNs, however, mastering the TensorFlow basics truly opens the would of machine learning to you, including CNNs (Convolutional Neural Networks), RNNs (Recurrent Neural Networks), reinforcement learning, image and video recognition and so much more."
   ]
  }
 ],
 "metadata": {
  "kernelspec": {
   "display_name": "Python 3",
   "language": "python",
   "name": "python3"
  },
  "language_info": {
   "codemirror_mode": {
    "name": "ipython",
    "version": 3
   },
   "file_extension": ".py",
   "mimetype": "text/x-python",
   "name": "python",
   "nbconvert_exporter": "python",
   "pygments_lexer": "ipython3",
   "version": "3.6.9"
  }
 },
 "nbformat": 4,
 "nbformat_minor": 2
}
