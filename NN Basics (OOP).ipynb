{
 "cells": [
  {
   "cell_type": "markdown",
   "metadata": {},
   "source": [
    "# Basics of neural networks 2 (OOP)\n",
    "\n",
    "### Making neural nets from scratch in Python using object-oriented programming\n",
    "\n",
    "This notebook is a follow up to my NN Basics. This time object-oriented is used thereby easier allowing for re-usability and more complex structures. My hope is that these will serve as my future sketches and as such a multitude of methods will be included and possibly more will be added along the way. This means that implementing this networks in practice we should probably refrain from including all of the available methods."
   ]
  },
  {
   "cell_type": "code",
   "execution_count": 4,
   "metadata": {},
   "outputs": [],
   "source": [
    "# Relevant imports\n",
    "import math\n",
    "import random"
   ]
  },
  {
   "cell_type": "markdown",
   "metadata": {},
   "source": [
    "### Neuron Node:\n",
    "\n",
    "A Neuron Node including verious activation functions. "
   ]
  },
  {
   "cell_type": "code",
   "execution_count": 5,
   "metadata": {},
   "outputs": [],
   "source": [
    "class Neuron:\n",
    "    def __init__(self, no):\n",
    "        self.no = no  \n",
    "        self.connections = []  \n",
    "        self.value = 0               # accumulated inputs (prior to activation)\n",
    "        self.activated_value = 0     # value post activation function\n",
    "        self.enabled = True\n",
    "    \n",
    "    def step_activation(self):\n",
    "        self.activated_value = 1 if self.value > 0 else 0\n",
    "    \n",
    "    def sigmoid_activation(self):\n",
    "        self.activated_value = 1 / (1 + math.exp(-self.value))"
   ]
  },
  {
   "cell_type": "markdown",
   "metadata": {},
   "source": [
    "### Synapse Node:\n",
    "\n",
    "A Synapse Node."
   ]
  },
  {
   "cell_type": "code",
   "execution_count": 6,
   "metadata": {},
   "outputs": [],
   "source": [
    "class Synapse:\n",
    "    def __init__(self, from_neuron, to_neuron, weight=random.uniform(-2, 2)):\n",
    "        self.from_neuron = from_neuron\n",
    "        self.to_neuron = to_neuron\n",
    "        self.weight = weight\n",
    "        self.enable = True"
   ]
  },
  {
   "cell_type": "markdown",
   "metadata": {},
   "source": [
    "### Neural Network:\n",
    "\n",
    "We initialize essentially an empty network and it's methods allows us to add different kinds of layers and connections between those layers\n",
    "\n",
    "### Possible methods:\n",
    "<ul>\n",
    "  <li>Create input layer</li>\n",
    "  <li>Create output layer</li>\n",
    "  <li>Create hidden layer</li>\n",
    "  <li>Create dense connetion between two layers</li>\n",
    "</ul>"
   ]
  },
  {
   "cell_type": "code",
   "execution_count": null,
   "metadata": {},
   "outputs": [],
   "source": [
    "class NeuralNet:\n",
    "    def __init__(self, input_neurons, output_neurons, hidden_layers=0, hidden_neurons=None):\n",
    "        self.input = input_neurons\n",
    "        self.output = output_neurons\n",
    "        self.hidden = hidden_neurons  # Input as list to allow for different size of hidden layers\n",
    "        self.num_of_layers = hidden_layers + 2\n",
    "\n",
    "        self.layers = []  # Neurons\n",
    "        self.synapses = []  # Synapses\n",
    "        \n",
    "    def generate_empty_genome(self, input_size, output_size):\n",
    "        self.neurons = []\n",
    "        self.synapses = []\n",
    "        self.layers = []\n",
    "        self.hidden = []\n",
    "        self.fitness = 0\n",
    "\n",
    "        self.input = [Neuron(['input', i]) for i in range(input_size)]\n",
    "        self.output = [Neuron(['output', i]) for i in range(output_size)]\n",
    "\n",
    "        self.neurons += self.input + self.output\n",
    "        self.layers.append(self.input)\n",
    "        self.layers.append(self.output)\n",
    "\n",
    "    def generate_genome(self):\n",
    "        input_layer = [Neuron([0, i]) for i in range(self.input)]\n",
    "        self.layers.append(input_layer)\n",
    "\n",
    "        if self.num_of_layers > 2:\n",
    "            for j in range(self.num_of_layers - 2):\n",
    "                hidden_layer = [Neuron([j+1, i]) for i in range(self.hidden[j])]\n",
    "                self.layers.append(hidden_layer)\n",
    "\n",
    "                synapse = []\n",
    "\n",
    "                for from_neuron in self.layers[-2]:\n",
    "                    for to_neuron in self.layers[-1]:\n",
    "                        connection = Synapse(from_neuron, to_neuron, random.randint(-1, 1))\n",
    "                        from_neuron.connections.append(connection)\n",
    "                        synapse.append(connection)\n",
    "\n",
    "                self.synapses.append(synapse)\n",
    "\n",
    "        output_layer = [Neuron([self.num_of_layers - 1, i]) for i in range(self.output)]\n",
    "        self.layers.append(output_layer)\n",
    "\n",
    "        synapse = []\n",
    "\n",
    "        for from_neuron in self.layers[-2]:\n",
    "            for to_neuron in self.layers[-1]:\n",
    "                connection = Synapse(from_neuron, to_neuron, random.randint(-1, 1))\n",
    "                from_neuron.connections.append(connection)\n",
    "                synapse.append(connection)\n",
    "\n",
    "        self.synapses.append(synapse)\n",
    "\n",
    "    def train(self, input_values, output_values, iterations=10000, backpropagation=False):\n",
    "        if backpropagation:\n",
    "            self.backpropagation(input_values, output_values, iterations)\n",
    "\n",
    "    def backpropagation(self, input_values, output_values, iterations):\n",
    "\n",
    "        for _ in range(iterations):\n",
    "\n",
    "            for value_list in input_values:\n",
    "                for i, val in enumerate(value_list):\n",
    "                    self.layers[0][i].value = val"
   ]
  }
 ],
 "metadata": {
  "kernelspec": {
   "display_name": "Python 3",
   "language": "python",
   "name": "python3"
  },
  "language_info": {
   "codemirror_mode": {
    "name": "ipython",
    "version": 3
   },
   "file_extension": ".py",
   "mimetype": "text/x-python",
   "name": "python",
   "nbconvert_exporter": "python",
   "pygments_lexer": "ipython3",
   "version": "3.6.8"
  }
 },
 "nbformat": 4,
 "nbformat_minor": 2
}
